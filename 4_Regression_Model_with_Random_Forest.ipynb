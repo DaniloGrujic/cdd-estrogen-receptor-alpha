{
 "cells": [
  {
   "cell_type": "markdown",
   "id": "0875b263-e618-45e5-9d60-30c766c50b02",
   "metadata": {},
   "source": [
    "# Regression Models with Random Forest"
   ]
  },
  {
   "cell_type": "markdown",
   "id": "7762022c-9a4b-4b1e-b5dc-d5f416acb8e8",
   "metadata": {},
   "source": [
    "## Load the data"
   ]
  },
  {
   "cell_type": "code",
   "execution_count": 1,
   "id": "f07c9460-1222-4fe7-88d0-8799c51886c6",
   "metadata": {},
   "outputs": [],
   "source": [
    "import pandas as pd\n",
    "import seaborn as sns\n",
    "from sklearn.model_selection import train_test_split\n",
    "from sklearn.ensemble import RandomForestRegressor"
   ]
  },
  {
   "cell_type": "markdown",
   "id": "637535f5-d7d0-4253-8608-86f3d1bde82d",
   "metadata": {},
   "source": [
    "### Features"
   ]
  },
  {
   "cell_type": "code",
   "execution_count": 2,
   "id": "dad53845-c387-41ca-a4cb-5294dbbc8be0",
   "metadata": {},
   "outputs": [
    {
     "data": {
      "text/html": [
       "<div>\n",
       "<style scoped>\n",
       "    .dataframe tbody tr th:only-of-type {\n",
       "        vertical-align: middle;\n",
       "    }\n",
       "\n",
       "    .dataframe tbody tr th {\n",
       "        vertical-align: top;\n",
       "    }\n",
       "\n",
       "    .dataframe thead th {\n",
       "        text-align: right;\n",
       "    }\n",
       "</style>\n",
       "<table border=\"1\" class=\"dataframe\">\n",
       "  <thead>\n",
       "    <tr style=\"text-align: right;\">\n",
       "      <th></th>\n",
       "      <th>APC2D1_C_C</th>\n",
       "      <th>APC2D1_C_N</th>\n",
       "      <th>APC2D1_C_O</th>\n",
       "      <th>APC2D1_C_S</th>\n",
       "      <th>APC2D1_C_F</th>\n",
       "      <th>APC2D1_C_Cl</th>\n",
       "      <th>APC2D1_C_X</th>\n",
       "      <th>APC2D1_N_N</th>\n",
       "      <th>APC2D1_O_S</th>\n",
       "      <th>APC2D2_C_C</th>\n",
       "      <th>...</th>\n",
       "      <th>SubFP137</th>\n",
       "      <th>SubFP169</th>\n",
       "      <th>SubFP172</th>\n",
       "      <th>SubFP179</th>\n",
       "      <th>SubFP181</th>\n",
       "      <th>SubFP182</th>\n",
       "      <th>SubFP184</th>\n",
       "      <th>SubFP275</th>\n",
       "      <th>SubFP287</th>\n",
       "      <th>SubFP303</th>\n",
       "    </tr>\n",
       "  </thead>\n",
       "  <tbody>\n",
       "    <tr>\n",
       "      <th>0</th>\n",
       "      <td>25.0</td>\n",
       "      <td>3.0</td>\n",
       "      <td>5.0</td>\n",
       "      <td>2.0</td>\n",
       "      <td>0.0</td>\n",
       "      <td>0.0</td>\n",
       "      <td>0.0</td>\n",
       "      <td>0.0</td>\n",
       "      <td>0.0</td>\n",
       "      <td>32.0</td>\n",
       "      <td>...</td>\n",
       "      <td>0</td>\n",
       "      <td>1</td>\n",
       "      <td>0</td>\n",
       "      <td>0</td>\n",
       "      <td>0</td>\n",
       "      <td>0</td>\n",
       "      <td>0</td>\n",
       "      <td>1</td>\n",
       "      <td>0</td>\n",
       "      <td>0</td>\n",
       "    </tr>\n",
       "    <tr>\n",
       "      <th>1</th>\n",
       "      <td>27.0</td>\n",
       "      <td>3.0</td>\n",
       "      <td>5.0</td>\n",
       "      <td>2.0</td>\n",
       "      <td>0.0</td>\n",
       "      <td>0.0</td>\n",
       "      <td>0.0</td>\n",
       "      <td>0.0</td>\n",
       "      <td>0.0</td>\n",
       "      <td>34.0</td>\n",
       "      <td>...</td>\n",
       "      <td>0</td>\n",
       "      <td>1</td>\n",
       "      <td>0</td>\n",
       "      <td>0</td>\n",
       "      <td>0</td>\n",
       "      <td>0</td>\n",
       "      <td>0</td>\n",
       "      <td>1</td>\n",
       "      <td>0</td>\n",
       "      <td>0</td>\n",
       "    </tr>\n",
       "    <tr>\n",
       "      <th>2</th>\n",
       "      <td>26.0</td>\n",
       "      <td>3.0</td>\n",
       "      <td>6.0</td>\n",
       "      <td>2.0</td>\n",
       "      <td>0.0</td>\n",
       "      <td>0.0</td>\n",
       "      <td>0.0</td>\n",
       "      <td>0.0</td>\n",
       "      <td>0.0</td>\n",
       "      <td>33.0</td>\n",
       "      <td>...</td>\n",
       "      <td>0</td>\n",
       "      <td>1</td>\n",
       "      <td>0</td>\n",
       "      <td>0</td>\n",
       "      <td>0</td>\n",
       "      <td>0</td>\n",
       "      <td>0</td>\n",
       "      <td>1</td>\n",
       "      <td>0</td>\n",
       "      <td>0</td>\n",
       "    </tr>\n",
       "    <tr>\n",
       "      <th>3</th>\n",
       "      <td>27.0</td>\n",
       "      <td>3.0</td>\n",
       "      <td>5.0</td>\n",
       "      <td>2.0</td>\n",
       "      <td>0.0</td>\n",
       "      <td>0.0</td>\n",
       "      <td>0.0</td>\n",
       "      <td>0.0</td>\n",
       "      <td>0.0</td>\n",
       "      <td>34.0</td>\n",
       "      <td>...</td>\n",
       "      <td>0</td>\n",
       "      <td>1</td>\n",
       "      <td>0</td>\n",
       "      <td>0</td>\n",
       "      <td>0</td>\n",
       "      <td>0</td>\n",
       "      <td>0</td>\n",
       "      <td>1</td>\n",
       "      <td>0</td>\n",
       "      <td>0</td>\n",
       "    </tr>\n",
       "    <tr>\n",
       "      <th>4</th>\n",
       "      <td>27.0</td>\n",
       "      <td>3.0</td>\n",
       "      <td>5.0</td>\n",
       "      <td>2.0</td>\n",
       "      <td>0.0</td>\n",
       "      <td>0.0</td>\n",
       "      <td>0.0</td>\n",
       "      <td>0.0</td>\n",
       "      <td>0.0</td>\n",
       "      <td>34.0</td>\n",
       "      <td>...</td>\n",
       "      <td>0</td>\n",
       "      <td>1</td>\n",
       "      <td>0</td>\n",
       "      <td>0</td>\n",
       "      <td>0</td>\n",
       "      <td>0</td>\n",
       "      <td>0</td>\n",
       "      <td>1</td>\n",
       "      <td>0</td>\n",
       "      <td>0</td>\n",
       "    </tr>\n",
       "    <tr>\n",
       "      <th>...</th>\n",
       "      <td>...</td>\n",
       "      <td>...</td>\n",
       "      <td>...</td>\n",
       "      <td>...</td>\n",
       "      <td>...</td>\n",
       "      <td>...</td>\n",
       "      <td>...</td>\n",
       "      <td>...</td>\n",
       "      <td>...</td>\n",
       "      <td>...</td>\n",
       "      <td>...</td>\n",
       "      <td>...</td>\n",
       "      <td>...</td>\n",
       "      <td>...</td>\n",
       "      <td>...</td>\n",
       "      <td>...</td>\n",
       "      <td>...</td>\n",
       "      <td>...</td>\n",
       "      <td>...</td>\n",
       "      <td>...</td>\n",
       "      <td>...</td>\n",
       "    </tr>\n",
       "    <tr>\n",
       "      <th>3048</th>\n",
       "      <td>32.0</td>\n",
       "      <td>3.0</td>\n",
       "      <td>4.0</td>\n",
       "      <td>0.0</td>\n",
       "      <td>1.0</td>\n",
       "      <td>2.0</td>\n",
       "      <td>3.0</td>\n",
       "      <td>0.0</td>\n",
       "      <td>0.0</td>\n",
       "      <td>44.0</td>\n",
       "      <td>...</td>\n",
       "      <td>1</td>\n",
       "      <td>0</td>\n",
       "      <td>0</td>\n",
       "      <td>0</td>\n",
       "      <td>0</td>\n",
       "      <td>0</td>\n",
       "      <td>0</td>\n",
       "      <td>1</td>\n",
       "      <td>1</td>\n",
       "      <td>0</td>\n",
       "    </tr>\n",
       "    <tr>\n",
       "      <th>3049</th>\n",
       "      <td>28.0</td>\n",
       "      <td>5.0</td>\n",
       "      <td>4.0</td>\n",
       "      <td>2.0</td>\n",
       "      <td>3.0</td>\n",
       "      <td>1.0</td>\n",
       "      <td>4.0</td>\n",
       "      <td>1.0</td>\n",
       "      <td>0.0</td>\n",
       "      <td>36.0</td>\n",
       "      <td>...</td>\n",
       "      <td>0</td>\n",
       "      <td>0</td>\n",
       "      <td>0</td>\n",
       "      <td>1</td>\n",
       "      <td>1</td>\n",
       "      <td>0</td>\n",
       "      <td>1</td>\n",
       "      <td>1</td>\n",
       "      <td>0</td>\n",
       "      <td>0</td>\n",
       "    </tr>\n",
       "    <tr>\n",
       "      <th>3050</th>\n",
       "      <td>28.0</td>\n",
       "      <td>7.0</td>\n",
       "      <td>2.0</td>\n",
       "      <td>2.0</td>\n",
       "      <td>3.0</td>\n",
       "      <td>1.0</td>\n",
       "      <td>4.0</td>\n",
       "      <td>1.0</td>\n",
       "      <td>0.0</td>\n",
       "      <td>36.0</td>\n",
       "      <td>...</td>\n",
       "      <td>0</td>\n",
       "      <td>0</td>\n",
       "      <td>0</td>\n",
       "      <td>1</td>\n",
       "      <td>1</td>\n",
       "      <td>0</td>\n",
       "      <td>1</td>\n",
       "      <td>1</td>\n",
       "      <td>0</td>\n",
       "      <td>0</td>\n",
       "    </tr>\n",
       "    <tr>\n",
       "      <th>3051</th>\n",
       "      <td>37.0</td>\n",
       "      <td>0.0</td>\n",
       "      <td>4.0</td>\n",
       "      <td>1.0</td>\n",
       "      <td>0.0</td>\n",
       "      <td>0.0</td>\n",
       "      <td>0.0</td>\n",
       "      <td>0.0</td>\n",
       "      <td>3.0</td>\n",
       "      <td>48.0</td>\n",
       "      <td>...</td>\n",
       "      <td>0</td>\n",
       "      <td>1</td>\n",
       "      <td>0</td>\n",
       "      <td>0</td>\n",
       "      <td>0</td>\n",
       "      <td>0</td>\n",
       "      <td>0</td>\n",
       "      <td>1</td>\n",
       "      <td>1</td>\n",
       "      <td>0</td>\n",
       "    </tr>\n",
       "    <tr>\n",
       "      <th>3052</th>\n",
       "      <td>38.0</td>\n",
       "      <td>3.0</td>\n",
       "      <td>14.0</td>\n",
       "      <td>0.0</td>\n",
       "      <td>0.0</td>\n",
       "      <td>0.0</td>\n",
       "      <td>0.0</td>\n",
       "      <td>0.0</td>\n",
       "      <td>0.0</td>\n",
       "      <td>56.0</td>\n",
       "      <td>...</td>\n",
       "      <td>0</td>\n",
       "      <td>1</td>\n",
       "      <td>0</td>\n",
       "      <td>0</td>\n",
       "      <td>0</td>\n",
       "      <td>0</td>\n",
       "      <td>0</td>\n",
       "      <td>0</td>\n",
       "      <td>1</td>\n",
       "      <td>0</td>\n",
       "    </tr>\n",
       "  </tbody>\n",
       "</table>\n",
       "<p>3053 rows × 3151 columns</p>\n",
       "</div>"
      ],
      "text/plain": [
       "      APC2D1_C_C  APC2D1_C_N  APC2D1_C_O  APC2D1_C_S  APC2D1_C_F  APC2D1_C_Cl  \\\n",
       "0           25.0         3.0         5.0         2.0         0.0          0.0   \n",
       "1           27.0         3.0         5.0         2.0         0.0          0.0   \n",
       "2           26.0         3.0         6.0         2.0         0.0          0.0   \n",
       "3           27.0         3.0         5.0         2.0         0.0          0.0   \n",
       "4           27.0         3.0         5.0         2.0         0.0          0.0   \n",
       "...          ...         ...         ...         ...         ...          ...   \n",
       "3048        32.0         3.0         4.0         0.0         1.0          2.0   \n",
       "3049        28.0         5.0         4.0         2.0         3.0          1.0   \n",
       "3050        28.0         7.0         2.0         2.0         3.0          1.0   \n",
       "3051        37.0         0.0         4.0         1.0         0.0          0.0   \n",
       "3052        38.0         3.0        14.0         0.0         0.0          0.0   \n",
       "\n",
       "      APC2D1_C_X  APC2D1_N_N  APC2D1_O_S  APC2D2_C_C  ...  SubFP137  SubFP169  \\\n",
       "0            0.0         0.0         0.0        32.0  ...         0         1   \n",
       "1            0.0         0.0         0.0        34.0  ...         0         1   \n",
       "2            0.0         0.0         0.0        33.0  ...         0         1   \n",
       "3            0.0         0.0         0.0        34.0  ...         0         1   \n",
       "4            0.0         0.0         0.0        34.0  ...         0         1   \n",
       "...          ...         ...         ...         ...  ...       ...       ...   \n",
       "3048         3.0         0.0         0.0        44.0  ...         1         0   \n",
       "3049         4.0         1.0         0.0        36.0  ...         0         0   \n",
       "3050         4.0         1.0         0.0        36.0  ...         0         0   \n",
       "3051         0.0         0.0         3.0        48.0  ...         0         1   \n",
       "3052         0.0         0.0         0.0        56.0  ...         0         1   \n",
       "\n",
       "      SubFP172  SubFP179  SubFP181  SubFP182  SubFP184  SubFP275  SubFP287  \\\n",
       "0            0         0         0         0         0         1         0   \n",
       "1            0         0         0         0         0         1         0   \n",
       "2            0         0         0         0         0         1         0   \n",
       "3            0         0         0         0         0         1         0   \n",
       "4            0         0         0         0         0         1         0   \n",
       "...        ...       ...       ...       ...       ...       ...       ...   \n",
       "3048         0         0         0         0         0         1         1   \n",
       "3049         0         1         1         0         1         1         0   \n",
       "3050         0         1         1         0         1         1         0   \n",
       "3051         0         0         0         0         0         1         1   \n",
       "3052         0         0         0         0         0         0         1   \n",
       "\n",
       "      SubFP303  \n",
       "0            0  \n",
       "1            0  \n",
       "2            0  \n",
       "3            0  \n",
       "4            0  \n",
       "...        ...  \n",
       "3048         0  \n",
       "3049         0  \n",
       "3050         0  \n",
       "3051         0  \n",
       "3052         0  \n",
       "\n",
       "[3053 rows x 3151 columns]"
      ]
     },
     "execution_count": 2,
     "metadata": {},
     "output_type": "execute_result"
    }
   ],
   "source": [
    "df = pd.read_csv('Data/padel_descriptors_final.csv')\n",
    "X = df.drop(['Unnamed: 0', 'pIC50'], axis=1)\n",
    "X"
   ]
  },
  {
   "cell_type": "markdown",
   "id": "b6c05767-779f-4f24-8fce-4f5b68cef945",
   "metadata": {},
   "source": [
    "### Targets"
   ]
  },
  {
   "cell_type": "code",
   "execution_count": 3,
   "id": "0edae428-2f54-43f4-86aa-bf4502061539",
   "metadata": {},
   "outputs": [
    {
     "data": {
      "text/plain": [
       "0       8.602060\n",
       "1       8.124939\n",
       "2       8.508638\n",
       "3       8.408935\n",
       "4       8.130768\n",
       "          ...   \n",
       "3048    7.238824\n",
       "3049    7.987163\n",
       "3050    7.882729\n",
       "3051    6.508638\n",
       "3052    7.823909\n",
       "Name: pIC50, Length: 3053, dtype: float64"
      ]
     },
     "execution_count": 3,
     "metadata": {},
     "output_type": "execute_result"
    }
   ],
   "source": [
    "y = df['pIC50']\n",
    "y"
   ]
  },
  {
   "cell_type": "markdown",
   "id": "b0158850-156f-4a97-a8cb-d38a1eeeaf92",
   "metadata": {},
   "source": [
    "## Data split (80/20 ratio)"
   ]
  },
  {
   "cell_type": "code",
   "execution_count": 4,
   "id": "1b53bd24-e9ef-4c6f-9517-8f3c2f9072f9",
   "metadata": {},
   "outputs": [],
   "source": [
    "X_train, X_test, Y_train, Y_test = train_test_split(X, y, test_size=0.2)"
   ]
  },
  {
   "cell_type": "code",
   "execution_count": 5,
   "id": "7bd772bf-fc8f-4842-aefb-b48d9bc20aa4",
   "metadata": {},
   "outputs": [
    {
     "data": {
      "text/plain": [
       "((2442, 3151), (2442,))"
      ]
     },
     "execution_count": 5,
     "metadata": {},
     "output_type": "execute_result"
    }
   ],
   "source": [
    "X_train.shape, Y_train.shape"
   ]
  },
  {
   "cell_type": "code",
   "execution_count": 6,
   "id": "0b1808e0-96c8-4dec-afcd-a53447200f30",
   "metadata": {},
   "outputs": [
    {
     "data": {
      "text/plain": [
       "((611, 3151), (611,))"
      ]
     },
     "execution_count": 6,
     "metadata": {},
     "output_type": "execute_result"
    }
   ],
   "source": [
    "X_test.shape, Y_test.shape"
   ]
  },
  {
   "cell_type": "markdown",
   "id": "6b2a078e-29b4-4f94-9ea9-6c1337b71c57",
   "metadata": {},
   "source": [
    "## Building a Regression Model using Random Forest"
   ]
  },
  {
   "cell_type": "code",
   "execution_count": 12,
   "id": "af843ae1-8332-4672-9ba2-b80b7b4164f8",
   "metadata": {},
   "outputs": [
    {
     "data": {
      "text/plain": [
       "0.7834214168180119"
      ]
     },
     "execution_count": 12,
     "metadata": {},
     "output_type": "execute_result"
    }
   ],
   "source": [
    "model = RandomForestRegressor(n_estimators=100)\n",
    "model.fit(X_train, Y_train.values.ravel())\n",
    "r2 = model.score(X_test, Y_test)\n",
    "r2"
   ]
  },
  {
   "cell_type": "code",
   "execution_count": 13,
   "id": "d91f4eef-de12-49b6-ac64-953bc1233523",
   "metadata": {},
   "outputs": [],
   "source": [
    "Y_pred = model.predict(X_test)"
   ]
  },
  {
   "cell_type": "markdown",
   "id": "4729201a-69d4-40b1-83cc-3288e91677b0",
   "metadata": {},
   "source": [
    "## Scatter Plot of Experimental vs Predicted pIC50 Values"
   ]
  },
  {
   "cell_type": "code",
   "execution_count": 9,
   "id": "ce0ed01b-a773-4b70-af3f-e88b7ec4d308",
   "metadata": {
    "scrolled": true
   },
   "outputs": [
    {
     "data": {
      "image/png": "[encoded data removed]",
      "text/plain": [
       "<Figure size 500x500 with 1 Axes>"
      ]
     },
     "metadata": {},
     "output_type": "display_data"
    }
   ],
   "source": [
    "import seaborn as sns\n",
    "import matplotlib.pyplot as plt\n",
    "\n",
    "sns.set(color_codes=True)\n",
    "sns.set_style(\"white\")\n",
    "\n",
    "ax = sns.regplot(x=Y_test, y=Y_pred, scatter_kws={'alpha':0.4}, color='orange')\n",
    "ax.set_xlabel('Experimental pIC50', fontsize='large', fontweight='bold')\n",
    "ax.set_ylabel('Predicted pIC50', fontsize='large', fontweight='bold')\n",
    "ax.set_xlim(0, 12)\n",
    "ax.set_ylim(0, 12)\n",
    "ax.figure.set_size_inches(5, 5)\n",
    "plt.show()"
   ]
  },
  {
   "cell_type": "markdown",
   "id": "a59128ec-7c02-4547-9553-85f311c4c9a1",
   "metadata": {},
   "source": [
    "The closer this plot is to 45 degree line, the closer predicted and experimental values are."
   ]
  },
  {
   "cell_type": "markdown",
   "id": "44638059-8828-440b-85de-3a02b623933d",
   "metadata": {},
   "source": [
    "## Save Model as Pickle Object"
   ]
  },
  {
   "cell_type": "code",
   "execution_count": 10,
   "id": "90d250f1-dabd-4568-b794-af3272df2c0b",
   "metadata": {},
   "outputs": [],
   "source": [
    "import pickle"
   ]
  },
  {
   "cell_type": "code",
   "execution_count": 11,
   "id": "42d52c5b-c04e-4370-9fba-53c6a154c227",
   "metadata": {},
   "outputs": [],
   "source": [
    "pickle.dump(model, open('estrogen_receptor_alpha_model.pkl', 'wb'))"
   ]
  }
 ],
 "metadata": {
  "kernelspec": {
   "display_name": "Python 3 (ipykernel)",
   "language": "python",
   "name": "python3"
  },
  "language_info": {
   "codemirror_mode": {
    "name": "ipython",
    "version": 3
   },
   "file_extension": ".py",
   "mimetype": "text/x-python",
   "name": "python",
   "nbconvert_exporter": "python",
   "pygments_lexer": "ipython3",
   "version": "3.10.13"
  }
 },
 "nbformat": 4,
 "nbformat_minor": 5
}
